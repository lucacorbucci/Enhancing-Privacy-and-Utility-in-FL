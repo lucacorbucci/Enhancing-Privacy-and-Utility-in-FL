{
 "cells": [
  {
   "cell_type": "code",
   "execution_count": null,
   "metadata": {},
   "outputs": [],
   "source": [
    "import pandas as pd\n",
    "import wandb\n",
    "import numpy as np\n",
    "import matplotlib.pyplot as plt\n",
    "import os"
   ]
  },
  {
   "cell_type": "code",
   "execution_count": null,
   "metadata": {},
   "outputs": [],
   "source": [
    "api = wandb.Api()"
   ]
  },
  {
   "cell_type": "code",
   "execution_count": null,
   "metadata": {},
   "outputs": [],
   "source": [
    "def get_data(link):\n",
    "    file_name = link.split(\"/\")[-1]\n",
    "    if os.path.exists(\"./csv/\" + file_name + \".csv\"):\n",
    "        return pd.read_csv(\"./csv/\" + file_name + \".csv\")\n",
    "    else:\n",
    "        df = pd.DataFrame(api.run(link).scan_history())\n",
    "        df.to_csv(\"./csv/\" + file_name + \".csv\", index=False)\n",
    "        return df\n",
    "\n",
    "\n",
    "def remove_nan(df, column_name):\n",
    "    return list(df[column_name].dropna())\n",
    "\n",
    "\n",
    "def compute_difference(dictionary, experiment_1, experiment_2):\n",
    "    return {\n",
    "        key: list(\n",
    "            np.array(dictionary[experiment_1][key])\n",
    "            - np.array(dictionary[experiment_2][key])\n",
    "        )\n",
    "        for key in dictionary[experiment_1]\n",
    "    }"
   ]
  },
  {
   "cell_type": "code",
   "execution_count": null,
   "metadata": {},
   "outputs": [],
   "source": [
    "def plot_accuracy(data, baselines, size, dataset_name):\n",
    "    epsilon_list = list(data[list(data.keys())[0]].keys())\n",
    "    for epsilon in epsilon_list:\n",
    "        plt.figure(figsize=(15, 10))\n",
    "        plt.plot(\n",
    "            baselines[size],\n",
    "            label=f\"Baseline\",\n",
    "            linewidth=3,\n",
    "        )\n",
    "        for experiment_type, _ in data.items():\n",
    "            plt.plot(\n",
    "                data[experiment_type][epsilon],\n",
    "                label=f\"{experiment_type} - {epsilon}\",\n",
    "                linewidth=3,\n",
    "            )\n",
    "        plt.rcParams.update({\"font.size\": 30})\n",
    "\n",
    "        plt.xlabel(\"FL Rounds\", fontsize=30)\n",
    "        plt.ylabel(\"Accuracy\", fontsize=30)\n",
    "        plt.legend()\n",
    "        plt.grid(True)\n",
    "\n",
    "        plt.title(\n",
    "            f\"Accuracy - \" + r\"$\\mathrm{\\varepsilon}= $\" + f\"{epsilon}\", fontsize=30\n",
    "        )\n",
    "        plt.tight_layout()\n",
    "        plt.savefig(f\"./plots/accuracy/{dataset_name}/accuracy_{size}_{epsilon}.png\")\n",
    "\n",
    "        plt.show()"
   ]
  },
  {
   "cell_type": "code",
   "execution_count": null,
   "metadata": {},
   "outputs": [],
   "source": [
    "def plot_differences(differences, dataset_name, size):\n",
    "    plt.figure(figsize=(15, 10))\n",
    "\n",
    "    for key in differences:\n",
    "        plt.plot(\n",
    "            differences[key], linewidth=3, label=r\"($\\mathrm{\\varepsilon}=$\" + key + \")\"\n",
    "        )  # + r', $\\mathrm{\\delta}=$')\n",
    "\n",
    "    plt.title(\"Difference in Accuracy between FL and FL with Pre-Training\", fontsize=30)\n",
    "    plt.xlabel(\"FL Round\", fontsize=30)\n",
    "    plt.ylabel(r\"$\\mathrm{\\Delta}$\", fontsize=30)\n",
    "    plt.rcParams.update({\"font.size\": 30})\n",
    "    plt.grid(True)\n",
    "\n",
    "    plt.legend()\n",
    "    plt.tight_layout()\n",
    "\n",
    "    plt.savefig(f\"./plots/differences/{dataset_name}/{size}.png\")\n",
    "\n",
    "    plt.show()"
   ]
  },
  {
   "cell_type": "markdown",
   "metadata": {},
   "source": [
    "# Mnist"
   ]
  },
  {
   "cell_type": "code",
   "execution_count": null,
   "metadata": {},
   "outputs": [],
   "source": [
    "baselines = {\n",
    "    \"0.2\": get_data(\"/lucacorbucci/mnist_Sweeps/runs/5ahs1fln\"),\n",
    "    \"0.3\": get_data(\"/lucacorbucci/mnist_Sweeps/runs/u8cuf3pi\"),\n",
    "    \"0.4\": get_data(\"/lucacorbucci/mnist_Sweeps/runs/ffjium42\"),\n",
    "}\n",
    "baselines_accuracy = {\n",
    "    experiment_name: remove_nan(value, \"Test Accuracy on the server\")\n",
    "    for experiment_name, value in baselines.items()\n",
    "}"
   ]
  },
  {
   "cell_type": "markdown",
   "metadata": {},
   "source": [
    "# 20% Public"
   ]
  },
  {
   "cell_type": "code",
   "execution_count": null,
   "metadata": {},
   "outputs": [],
   "source": [
    "wandb_data = {\n",
    "    \"p2p_server\": {\n",
    "        \"1.0\": get_data(\"/lucacorbucci/mnist_Sweeps/runs/ss3yjmv9\"),\n",
    "        \"2.0\": get_data(\"/lucacorbucci/mnist_Sweeps/runs/ytiit6h6\"),\n",
    "        \"3.0\": get_data(\"/lucacorbucci/mnist_Sweeps/runs/tci785e9\"),\n",
    "        \"4.0\": get_data(\"/lucacorbucci/mnist_Sweeps/runs/5sdmpqtf\"),\n",
    "        \"5.0\": get_data(\"/lucacorbucci/mnist_Sweeps/runs/37mdp38w\"),\n",
    "    },\n",
    "    \"server\": {\n",
    "        \"1.0\": get_data(\"/lucacorbucci/mnist_Sweeps/runs/wsnn1bl3\"),\n",
    "        \"2.0\": get_data(\"/lucacorbucci/mnist_Sweeps/runs/knnsfhcb\"),\n",
    "        \"3.0\": get_data(\"/lucacorbucci/mnist_Sweeps/runs/90wj101q\"),\n",
    "        \"4.0\": get_data(\"/lucacorbucci/mnist_Sweeps/runs/l29t02bz\"),\n",
    "        \"5.0\": get_data(\"/lucacorbucci/mnist_Sweeps/runs/gztsjo8g\"),\n",
    "    },\n",
    "}\n",
    "\n",
    "test_accuracy = {\n",
    "    experiment_name: {\n",
    "        epsilon_name: remove_nan(data, \"Test Accuracy on the server\")\n",
    "        for epsilon_name, data in value.items()\n",
    "    }\n",
    "    for experiment_name, value in wandb_data.items()\n",
    "}\n",
    "\n",
    "differences = compute_difference(test_accuracy, \"p2p_server\", \"server\")"
   ]
  },
  {
   "cell_type": "code",
   "execution_count": null,
   "metadata": {},
   "outputs": [],
   "source": [
    "plot_differences(differences, dataset_name=\"mnist\", size=0.2)"
   ]
  },
  {
   "cell_type": "code",
   "execution_count": null,
   "metadata": {},
   "outputs": [],
   "source": [
    "plot_accuracy(test_accuracy, baselines_accuracy, \"0.2\", dataset_name=\"mnist\")"
   ]
  },
  {
   "cell_type": "markdown",
   "metadata": {},
   "source": [
    "# 30% Public"
   ]
  },
  {
   "cell_type": "code",
   "execution_count": null,
   "metadata": {},
   "outputs": [],
   "source": [
    "wandb_data = {\n",
    "    \"p2p_server\": {\n",
    "        \"1.0\": get_data(\"/lucacorbucci/mnist_Sweeps/runs/dj4b2rf6\"),\n",
    "        \"2.0\": get_data(\"/lucacorbucci/mnist_Sweeps/runs/iqqwaxti\"),\n",
    "        \"3.0\": get_data(\"/lucacorbucci/mnist_Sweeps/runs/yq2dpzi5\"),\n",
    "        \"4.0\": get_data(\"/lucacorbucci/mnist_Sweeps/runs/73cfmfvk\"),\n",
    "        \"5.0\": get_data(\"/lucacorbucci/mnist_Sweeps/runs/35fm5alp\"),\n",
    "    },\n",
    "    \"server\": {\n",
    "        \"1.0\": get_data(\"/lucacorbucci/mnist_Sweeps/runs/snvzngdb\"),\n",
    "        \"2.0\": get_data(\"/lucacorbucci/mnist_Sweeps/runs/3qwonhkz\"),\n",
    "        \"3.0\": get_data(\"/lucacorbucci/mnist_Sweeps/runs/da6w1iav\"),\n",
    "        \"4.0\": get_data(\"/lucacorbucci/mnist_Sweeps/runs/ngbj35hy\"),\n",
    "        \"5.0\": get_data(\"/lucacorbucci/mnist_Sweeps/runs/k6pdd6qk\"),\n",
    "    },\n",
    "}\n",
    "\n",
    "test_accuracy = {\n",
    "    experiment_name: {\n",
    "        epsilon_name: remove_nan(data, \"Test Accuracy on the server\")\n",
    "        for epsilon_name, data in value.items()\n",
    "    }\n",
    "    for experiment_name, value in wandb_data.items()\n",
    "}\n",
    "differences = compute_difference(test_accuracy, \"p2p_server\", \"server\")"
   ]
  },
  {
   "cell_type": "code",
   "execution_count": null,
   "metadata": {},
   "outputs": [],
   "source": [
    "plot_differences(differences, dataset_name=\"mnist\", size=0.3)"
   ]
  },
  {
   "cell_type": "code",
   "execution_count": null,
   "metadata": {},
   "outputs": [],
   "source": [
    "plot_accuracy(test_accuracy, baselines_accuracy, \"0.3\", dataset_name=\"mnist\")"
   ]
  },
  {
   "cell_type": "markdown",
   "metadata": {},
   "source": [
    "# 40% Public"
   ]
  },
  {
   "cell_type": "code",
   "execution_count": null,
   "metadata": {},
   "outputs": [],
   "source": [
    "wandb_data = {\n",
    "    \"p2p_server\": {\n",
    "        \"1.0\": get_data(\"/lucacorbucci/mnist_Sweeps/runs/6eda5bme\"),\n",
    "        \"2.0\": get_data(\"/lucacorbucci/mnist_Sweeps/runs/ugt53qnb\"),\n",
    "        \"3.0\": get_data(\"/lucacorbucci/mnist_Sweeps/runs/q2gqaepu\"),\n",
    "        \"4.0\": get_data(\"/lucacorbucci/mnist_Sweeps/runs/5iwbkha3\"),\n",
    "        \"5.0\": get_data(\"/lucacorbucci/mnist_Sweeps/runs/nq8omloh\"),\n",
    "    },\n",
    "    \"server\": {\n",
    "        \"1.0\": get_data(\"/lucacorbucci/mnist_Sweeps/runs/8tpgvhpj\"),\n",
    "        \"2.0\": get_data(\"/lucacorbucci/mnist_Sweeps/runs/u0zc7qxl\"),\n",
    "        \"3.0\": get_data(\"/lucacorbucci/mnist_Sweeps/runs/d6vzhusb\"),\n",
    "        \"4.0\": get_data(\"/lucacorbucci/mnist_Sweeps/runs/eaxl8yoz\"),\n",
    "        \"5.0\": get_data(\"/lucacorbucci/mnist_Sweeps/runs/b7urc3xk\"),\n",
    "    },\n",
    "}\n",
    "\n",
    "test_accuracy = {\n",
    "    experiment_name: {\n",
    "        epsilon_name: remove_nan(data, \"Test Accuracy on the server\")\n",
    "        for epsilon_name, data in value.items()\n",
    "    }\n",
    "    for experiment_name, value in wandb_data.items()\n",
    "}\n",
    "\n",
    "differences = compute_difference(test_accuracy, \"p2p_server\", \"server\")"
   ]
  },
  {
   "cell_type": "code",
   "execution_count": null,
   "metadata": {},
   "outputs": [],
   "source": [
    "plot_differences(differences, dataset_name=\"mnist\", size=0.4)"
   ]
  },
  {
   "cell_type": "code",
   "execution_count": null,
   "metadata": {},
   "outputs": [],
   "source": [
    "plot_accuracy(test_accuracy, baselines_accuracy, \"0.4\", dataset_name=\"mnist\")"
   ]
  },
  {
   "cell_type": "markdown",
   "metadata": {},
   "source": [
    "# Dutch"
   ]
  },
  {
   "cell_type": "code",
   "execution_count": null,
   "metadata": {},
   "outputs": [],
   "source": [
    "baselines = {\n",
    "    \"0.2\": get_data(\"/lucacorbucci/p2p_dutch_Sweeps/runs/u94k8z1z\"),\n",
    "    \"0.3\": get_data(\"/lucacorbucci/p2p_dutch_Sweeps/runs/e95tu6oc\"),\n",
    "    \"0.4\": get_data(\"/lucacorbucci/p2p_dutch_Sweeps/runs/64yyqimn\"),\n",
    "    \"0.5\": get_data(\"/lucacorbucci/p2p_dutch_Sweeps/runs/5j6s3cch\"),\n",
    "    \"0.6\": get_data(\"/lucacorbucci/p2p_dutch_Sweeps/runs/xre334u9\"),\n",
    "}\n",
    "baselines_accuracy = {\n",
    "    experiment_name: remove_nan(value, \"Test Accuracy on the server\")\n",
    "    for experiment_name, value in baselines.items()\n",
    "}"
   ]
  },
  {
   "cell_type": "markdown",
   "metadata": {},
   "source": [
    "# 20% Public"
   ]
  },
  {
   "cell_type": "code",
   "execution_count": null,
   "metadata": {},
   "outputs": [],
   "source": [
    "wandb_data = {\n",
    "    \"p2p_server\": {\n",
    "        \"0.2\": get_data(\"/lucacorbucci/p2p_dutch_Sweeps/runs/luvg8e2q\"),\n",
    "        \"0.5\": get_data(\"/lucacorbucci/p2p_dutch_Sweeps/runs/hhocjgbz\"),\n",
    "        \"1.0\": get_data(\"/lucacorbucci/p2p_dutch_Sweeps/runs/awwey9ht\"),\n",
    "        # \"2.0\": get_data(\"/lucacorbucci/p2p_dutch_Sweeps/runs/x9xhanw4\"),\n",
    "        # \"3.0\": get_data(\"/lucacorbucci/p2p_dutch_Sweeps/runs/d7votfim\"),\n",
    "        # \"4.0\": get_data(\"/lucacorbucci/p2p_dutch_Sweeps/runs/di5reg2p\"),\n",
    "    },\n",
    "    \"server\": {\n",
    "        \"0.2\": get_data(\"/lucacorbucci/p2p_dutch_Sweeps/runs/mpkn4ywz\"),\n",
    "        \"0.5\": get_data(\"/lucacorbucci/p2p_dutch_Sweeps/runs/em7prv29\"),\n",
    "        \"1.0\": get_data(\"/lucacorbucci/p2p_dutch_Sweeps/runs/ouigvgag\"),\n",
    "        # \"2.0\": get_data(\"/lucacorbucci/p2p_dutch_Sweeps/runs/b1mw4mba\"),\n",
    "        # \"3.0\": get_data(\"/lucacorbucci/p2p_dutch_Sweeps/runs/hm1lv9bl\"),\n",
    "        # \"4.0\": get_data(\"/lucacorbucci/p2p_dutch_Sweeps/runs/4dtqne3s\"),\n",
    "    },\n",
    "}\n",
    "\n",
    "test_accuracy = {\n",
    "    experiment_name: {\n",
    "        epsilon_name: remove_nan(data, \"Test Accuracy on the server\")\n",
    "        for epsilon_name, data in value.items()\n",
    "    }\n",
    "    for experiment_name, value in wandb_data.items()\n",
    "}\n",
    "\n",
    "differences = compute_difference(test_accuracy, \"p2p_server\", \"server\")"
   ]
  },
  {
   "cell_type": "code",
   "execution_count": null,
   "metadata": {},
   "outputs": [],
   "source": [
    "plot_differences(differences, dataset_name=\"dutch\", size=0.2)"
   ]
  },
  {
   "cell_type": "code",
   "execution_count": null,
   "metadata": {},
   "outputs": [],
   "source": [
    "plot_accuracy(test_accuracy, baselines_accuracy, \"0.2\", dataset_name=\"dutch\")"
   ]
  },
  {
   "cell_type": "markdown",
   "metadata": {},
   "source": [
    "# 30% Public"
   ]
  },
  {
   "cell_type": "code",
   "execution_count": null,
   "metadata": {},
   "outputs": [],
   "source": [
    "wandb_data = {\n",
    "    \"p2p_server\": {\n",
    "        \"0.2\": get_data(\"/lucacorbucci/p2p_dutch_Sweeps/runs/f65rkews\"),\n",
    "        \"0.5\": get_data(\"/lucacorbucci/p2p_dutch_Sweeps/runs/3qsn6ed2\"),\n",
    "        \"1.0\": get_data(\"/lucacorbucci/p2p_dutch_Sweeps/runs/5cjmnupl\"),\n",
    "        # \"2.0\": get_data(\"/lucacorbucci/p2p_dutch_Sweeps/runs/7czy8phs\"),\n",
    "        # \"3.0\": get_data(\"/lucacorbucci/p2p_dutch_Sweeps/runs/77ypwxpy\"),\n",
    "        # \"4.0\": get_data(\"/lucacorbucci/p2p_dutch_Sweeps/runs/81eum7y7\"),\n",
    "    },\n",
    "    \"server\": {\n",
    "        \"0.2\": get_data(\"/lucacorbucci/p2p_dutch_Sweeps/runs/2gu5ltzd\"),\n",
    "        \"0.5\": get_data(\"/lucacorbucci/p2p_dutch_Sweeps/runs/xwi86d3v\"),\n",
    "        \"1.0\": get_data(\"/lucacorbucci/p2p_dutch_Sweeps/runs/zoivhvqv\"),\n",
    "        # \"2.0\": get_data(\"/lucacorbucci/p2p_dutch_Sweeps/runs/c84ur335\"),\n",
    "        # \"3.0\": get_data(\"/lucacorbucci/p2p_dutch_Sweeps/runs/jggc2e46\"),\n",
    "        # \"4.0\": get_data(\"/lucacorbucci/p2p_dutch_Sweeps/runs/4qaer27o\"),\n",
    "    },\n",
    "}\n",
    "\n",
    "test_accuracy = {\n",
    "    experiment_name: {\n",
    "        epsilon_name: remove_nan(data, \"Test Accuracy on the server\")\n",
    "        for epsilon_name, data in value.items()\n",
    "    }\n",
    "    for experiment_name, value in wandb_data.items()\n",
    "}\n",
    "differences = compute_difference(test_accuracy, \"p2p_server\", \"server\")"
   ]
  },
  {
   "cell_type": "code",
   "execution_count": null,
   "metadata": {},
   "outputs": [],
   "source": [
    "plot_differences(differences, dataset_name=\"dutch\", size=0.3)"
   ]
  },
  {
   "cell_type": "code",
   "execution_count": null,
   "metadata": {},
   "outputs": [],
   "source": [
    "plot_accuracy(test_accuracy, baselines_accuracy, \"0.3\", dataset_name=\"dutch\")"
   ]
  },
  {
   "cell_type": "markdown",
   "metadata": {},
   "source": [
    "# 40% Public"
   ]
  },
  {
   "cell_type": "code",
   "execution_count": null,
   "metadata": {},
   "outputs": [],
   "source": [
    "wandb_data = {\n",
    "    \"p2p_server\": {\n",
    "        \"0.2\": get_data(\"/lucacorbucci/p2p_dutch_Sweeps/runs/8xdj66z5\"),\n",
    "        \"0.5\": get_data(\"/lucacorbucci/p2p_dutch_Sweeps/runs/z78d5w8p\"),\n",
    "        \"1.0\": get_data(\"/lucacorbucci/p2p_dutch_Sweeps/runs/7o9uxuvl\"),\n",
    "        # \"2.0\": get_data(\"/lucacorbucci/p2p_dutch_Sweeps/runs/oe2hp4es\"),\n",
    "        # \"3.0\": get_data(\"/lucacorbucci/p2p_dutch_Sweeps/runs/yvcwhtc0\"),\n",
    "        # \"4.0\": get_data(\"/lucacorbucci/p2p_dutch_Sweeps/runs/g51dpxtr\"),\n",
    "    },\n",
    "    \"server\": {\n",
    "        \"0.2\": get_data(\"/lucacorbucci/p2p_dutch_Sweeps/runs/67lxbpq5\"),\n",
    "        \"0.5\": get_data(\"/lucacorbucci/p2p_dutch_Sweeps/runs/5xo2b9wq\"),\n",
    "        \"1.0\": get_data(\"/lucacorbucci/p2p_dutch_Sweeps/runs/cv251io0\"),\n",
    "        # \"2.0\": get_data(\"/lucacorbucci/p2p_dutch_Sweeps/runs/7v71jfdn\"),\n",
    "        # \"3.0\": get_data(\"/lucacorbucci/p2p_dutch_Sweeps/runs/rzoknahh\"),\n",
    "        # \"4.0\": get_data(\"/lucacorbucci/p2p_dutch_Sweeps/runs/98nqogv6\"),\n",
    "    },\n",
    "}\n",
    "\n",
    "\n",
    "test_accuracy = {\n",
    "    experiment_name: {\n",
    "        epsilon_name: remove_nan(data, \"Test Accuracy on the server\")\n",
    "        for epsilon_name, data in value.items()\n",
    "    }\n",
    "    for experiment_name, value in wandb_data.items()\n",
    "}\n",
    "\n",
    "differences = compute_difference(test_accuracy, \"p2p_server\", \"server\")"
   ]
  },
  {
   "cell_type": "code",
   "execution_count": null,
   "metadata": {},
   "outputs": [],
   "source": [
    "plot_differences(differences, dataset_name=\"dutch\", size=0.4)"
   ]
  },
  {
   "cell_type": "code",
   "execution_count": null,
   "metadata": {},
   "outputs": [],
   "source": [
    "plot_accuracy(test_accuracy, baselines_accuracy, \"0.4\", dataset_name=\"dutch\")"
   ]
  },
  {
   "cell_type": "markdown",
   "metadata": {},
   "source": [
    "# Income"
   ]
  },
  {
   "cell_type": "code",
   "execution_count": null,
   "metadata": {},
   "outputs": [],
   "source": [
    "baselines = {\n",
    "    \"0.2\": get_data(\"/lucacorbucci/income_p2p/runs/2d1ul8lq\"),\n",
    "    \"0.3\": get_data(\"/lucacorbucci/income_p2p/runs/ng3lnkfi\"),\n",
    "    \"0.4\": get_data(\"/lucacorbucci/income_p2p/runs/w2dcirv8\"),\n",
    "    # \"0.5\": get_data(\"/lucacorbucci/income_p2p/runs/mdujn6r6\"),\n",
    "}\n",
    "baselines_accuracy = {\n",
    "    experiment_name: remove_nan(value, \"Test Accuracy on the server\")\n",
    "    for experiment_name, value in baselines.items()\n",
    "}"
   ]
  },
  {
   "cell_type": "markdown",
   "metadata": {},
   "source": [
    "# 20% Public"
   ]
  },
  {
   "cell_type": "code",
   "execution_count": null,
   "metadata": {},
   "outputs": [],
   "source": [
    "wandb_data = {\n",
    "    \"p2p_server\": {\n",
    "        \"0.5\": get_data(\"/lucacorbucci/income_p2p/runs/9vwhjnlm\"),\n",
    "        \"1.0\": get_data(\"/lucacorbucci/income_p2p/runs/c6uj4t3c\"),\n",
    "        \"2.0\": get_data(\"/lucacorbucci/income_p2p/runs/wwbxt651\"),\n",
    "    },\n",
    "    \"server\": {\n",
    "        \"0.5\": get_data(\"/lucacorbucci/income_p2p/runs/36apol2z\"),\n",
    "        \"1.0\": get_data(\"/lucacorbucci/income_p2p/runs/4hctjxy2\"),\n",
    "        \"2.0\": get_data(\"/lucacorbucci/income_p2p/runs/izlmlci9\"),\n",
    "    },\n",
    "}\n",
    "\n",
    "test_accuracy = {\n",
    "    experiment_name: {\n",
    "        epsilon_name: remove_nan(data, \"Test Accuracy on the server\")\n",
    "        for epsilon_name, data in value.items()\n",
    "    }\n",
    "    for experiment_name, value in wandb_data.items()\n",
    "}\n",
    "\n",
    "differences = compute_difference(test_accuracy, \"p2p_server\", \"server\")"
   ]
  },
  {
   "cell_type": "code",
   "execution_count": null,
   "metadata": {},
   "outputs": [],
   "source": [
    "plot_differences(differences, dataset_name=\"income\", size=0.2)"
   ]
  },
  {
   "cell_type": "code",
   "execution_count": null,
   "metadata": {},
   "outputs": [],
   "source": [
    "plot_accuracy(test_accuracy, baselines_accuracy, \"0.2\", dataset_name=\"income\")"
   ]
  },
  {
   "cell_type": "markdown",
   "metadata": {},
   "source": [
    "# 30% Public"
   ]
  },
  {
   "cell_type": "code",
   "execution_count": null,
   "metadata": {},
   "outputs": [],
   "source": [
    "wandb_data = {\n",
    "    \"p2p_server\": {\n",
    "        \"0.5\": get_data(\"/lucacorbucci/income_p2p/runs/xw9s6opd\"),\n",
    "        \"1.0\": get_data(\"/lucacorbucci/income_p2p/runs/nzps4qpr\"),\n",
    "        \"2.0\": get_data(\"/lucacorbucci/income_p2p/runs/4jny4tdw\"),\n",
    "    },\n",
    "    \"server\": {\n",
    "        \"0.5\": get_data(\"/lucacorbucci/income_p2p/runs/geo86e6a\"),\n",
    "        \"1.0\": get_data(\"/lucacorbucci/income_p2p/runs/6gjxy6ny\"),\n",
    "        \"2.0\": get_data(\"/lucacorbucci/income_p2p/runs/1n6ae2ox\"),\n",
    "    },\n",
    "}\n",
    "\n",
    "test_accuracy = {\n",
    "    experiment_name: {\n",
    "        epsilon_name: remove_nan(data, \"Test Accuracy on the server\")\n",
    "        for epsilon_name, data in value.items()\n",
    "    }\n",
    "    for experiment_name, value in wandb_data.items()\n",
    "}\n",
    "differences = compute_difference(test_accuracy, \"p2p_server\", \"server\")"
   ]
  },
  {
   "cell_type": "code",
   "execution_count": null,
   "metadata": {},
   "outputs": [],
   "source": [
    "plot_differences(differences, dataset_name=\"income\", size=0.3)"
   ]
  },
  {
   "cell_type": "code",
   "execution_count": null,
   "metadata": {},
   "outputs": [],
   "source": [
    "plot_accuracy(test_accuracy, baselines_accuracy, \"0.3\", dataset_name=\"income\")"
   ]
  },
  {
   "cell_type": "markdown",
   "metadata": {},
   "source": [
    "# 40% Public"
   ]
  },
  {
   "cell_type": "code",
   "execution_count": null,
   "metadata": {},
   "outputs": [],
   "source": [
    "wandb_data = {\n",
    "    \"p2p_server\": {\n",
    "        \"0.5\": get_data(\"/lucacorbucci/income_p2p/runs/d5w4abt1\"),\n",
    "        \"1.0\": get_data(\"/lucacorbucci/income_p2p/runs/nzdrjvyp\"),\n",
    "        \"2.0\": get_data(\"/lucacorbucci/income_p2p/runs/zk75rkgb\"),\n",
    "    },\n",
    "    \"server\": {\n",
    "        \"0.5\": get_data(\"/lucacorbucci/income_p2p/runs/1rciacde\"),\n",
    "        \"1.0\": get_data(\"/lucacorbucci/income_p2p/runs/8jyyhh6g\"),\n",
    "        \"2.0\": get_data(\"/lucacorbucci/income_p2p/runs/iatmkxlx\"),\n",
    "    },\n",
    "}\n",
    "\n",
    "\n",
    "test_accuracy = {\n",
    "    experiment_name: {\n",
    "        epsilon_name: remove_nan(data, \"Test Accuracy on the server\")\n",
    "        for epsilon_name, data in value.items()\n",
    "    }\n",
    "    for experiment_name, value in wandb_data.items()\n",
    "}\n",
    "\n",
    "differences = compute_difference(test_accuracy, \"p2p_server\", \"server\")"
   ]
  },
  {
   "cell_type": "code",
   "execution_count": null,
   "metadata": {},
   "outputs": [],
   "source": [
    "plot_differences(differences, dataset_name=\"income\", size=0.4)"
   ]
  },
  {
   "cell_type": "code",
   "execution_count": null,
   "metadata": {},
   "outputs": [],
   "source": [
    "plot_accuracy(test_accuracy, baselines_accuracy, \"0.4\", dataset_name=\"income\")"
   ]
  },
  {
   "cell_type": "markdown",
   "metadata": {},
   "source": [
    "# Celeba"
   ]
  },
  {
   "cell_type": "code",
   "execution_count": null,
   "metadata": {},
   "outputs": [],
   "source": [
    "baselines = {\n",
    "    \"0.2\": get_data(\"/lucacorbucci/celeba_p2p_Sweeps/runs/9w93e4eu\"),\n",
    "    \"0.3\": get_data(\"/lucacorbucci/celeba_p2p_Sweeps/runs/wnxuer24\"),\n",
    "    \"0.4\": get_data(\"/lucacorbucci/celeba_p2p_Sweeps/runs/gvcm60gh\"),\n",
    "}\n",
    "baselines_accuracy = {\n",
    "    experiment_name: remove_nan(value, \"Test Accuracy on the server\")\n",
    "    for experiment_name, value in baselines.items()\n",
    "}"
   ]
  },
  {
   "cell_type": "markdown",
   "metadata": {},
   "source": [
    "# 20% Public"
   ]
  },
  {
   "cell_type": "code",
   "execution_count": null,
   "metadata": {},
   "outputs": [],
   "source": [
    "wandb_data = {\n",
    "    \"p2p_server\": {\n",
    "        \"5.0\": get_data(\"/lucacorbucci/celeba_p2p_Sweeps/runs/wl6nj3ya\"),\n",
    "        \"3.0\": get_data(\"/lucacorbucci/celeba_p2p_Sweeps/runs/i7zz2pyf\"),\n",
    "        \"1.0\": get_data(\"/lucacorbucci/celeba_p2p_Sweeps/runs/jw9yirvr\"),\n",
    "    },\n",
    "    \"server\": {\n",
    "        \"5.0\": get_data(\"/lucacorbucci/celeba_p2p_Sweeps/runs/ejfcwshy\"),\n",
    "        \"3.0\": get_data(\"/lucacorbucci/celeba_p2p_Sweeps/runs/mt1isg2f\"),\n",
    "        \"1.0\": get_data(\"/lucacorbucci/celeba_p2p_Sweeps/runs/7qnxgfbr\"),\n",
    "    },\n",
    "}\n",
    "\n",
    "test_accuracy = {\n",
    "    experiment_name: {\n",
    "        epsilon_name: remove_nan(data, \"Test Accuracy on the server\")\n",
    "        for epsilon_name, data in value.items()\n",
    "    }\n",
    "    for experiment_name, value in wandb_data.items()\n",
    "}\n",
    "\n",
    "differences = compute_difference(test_accuracy, \"p2p_server\", \"server\")"
   ]
  },
  {
   "cell_type": "code",
   "execution_count": null,
   "metadata": {},
   "outputs": [],
   "source": [
    "plot_differences(differences, dataset_name=\"celeba\", size=0.2)"
   ]
  },
  {
   "cell_type": "code",
   "execution_count": null,
   "metadata": {},
   "outputs": [],
   "source": [
    "plot_accuracy(test_accuracy, baselines_accuracy, \"0.2\", dataset_name=\"celeba\")"
   ]
  },
  {
   "cell_type": "markdown",
   "metadata": {},
   "source": [
    "# 30% Public"
   ]
  },
  {
   "cell_type": "code",
   "execution_count": null,
   "metadata": {},
   "outputs": [],
   "source": [
    "wandb_data = {\n",
    "    \"p2p_server\": {\n",
    "        \"5.0\": get_data(\"/lucacorbucci/celeba_p2p_Sweeps/runs/0hlarv9y\"),\n",
    "        \"3.0\": get_data(\"/lucacorbucci/celeba_p2p_Sweeps/runs/gu57fuzt\"),\n",
    "        \"1.0\": get_data(\"/lucacorbucci/celeba_p2p_Sweeps/runs/gq6cgro2\"),\n",
    "    },\n",
    "    \"server\": {\n",
    "        \"5.0\": get_data(\"/lucacorbucci/celeba_p2p_Sweeps/runs/nw50pull\"),\n",
    "        \"3.0\": get_data(\"/lucacorbucci/celeba_p2p_Sweeps/runs/gu57fuzt\"),\n",
    "        \"1.0\": get_data(\"/lucacorbucci/celeba_p2p_Sweeps/runs/04ctuqjn\"),\n",
    "    },\n",
    "}\n",
    "\n",
    "test_accuracy = {\n",
    "    experiment_name: {\n",
    "        epsilon_name: remove_nan(data, \"Test Accuracy on the server\")\n",
    "        for epsilon_name, data in value.items()\n",
    "    }\n",
    "    for experiment_name, value in wandb_data.items()\n",
    "}\n",
    "differences = compute_difference(test_accuracy, \"p2p_server\", \"server\")"
   ]
  },
  {
   "cell_type": "code",
   "execution_count": null,
   "metadata": {},
   "outputs": [],
   "source": [
    "plot_differences(differences, dataset_name=\"celeba\", size=0.3)"
   ]
  },
  {
   "cell_type": "code",
   "execution_count": null,
   "metadata": {},
   "outputs": [],
   "source": [
    "plot_accuracy(test_accuracy, baselines_accuracy, \"0.3\", dataset_name=\"celeba\")"
   ]
  },
  {
   "cell_type": "markdown",
   "metadata": {},
   "source": [
    "# 40% Public"
   ]
  },
  {
   "cell_type": "code",
   "execution_count": null,
   "metadata": {},
   "outputs": [],
   "source": [
    "wandb_data = {\n",
    "    \"p2p_server\": {\n",
    "        \"5.0\": get_data(\"/lucacorbucci/celeba_p2p_Sweeps/runs/nken7lmx\"),\n",
    "        \"3.0\": get_data(\"/lucacorbucci/celeba_p2p_Sweeps/runs/g8l0xtc6\"),\n",
    "        \"1.0\": get_data(\"/lucacorbucci/celeba_p2p_Sweeps/runs/pp416xjd\"),\n",
    "    },\n",
    "    \"server\": {\n",
    "        \"5.0\": get_data(\"/lucacorbucci/celeba_p2p_Sweeps/runs/2po7nsej\"),\n",
    "        \"3.0\": get_data(\"/lucacorbucci/celeba_p2p_Sweeps/runs/ddpcbk1e\"),\n",
    "        \"1.0\": get_data(\"/lucacorbucci/celeba_p2p_Sweeps/runs/tshs52vj\"),\n",
    "    },\n",
    "}\n",
    "\n",
    "\n",
    "test_accuracy = {\n",
    "    experiment_name: {\n",
    "        epsilon_name: remove_nan(data, \"Test Accuracy on the server\")\n",
    "        for epsilon_name, data in value.items()\n",
    "    }\n",
    "    for experiment_name, value in wandb_data.items()\n",
    "}\n",
    "\n",
    "differences = compute_difference(test_accuracy, \"p2p_server\", \"server\")"
   ]
  },
  {
   "cell_type": "code",
   "execution_count": null,
   "metadata": {},
   "outputs": [],
   "source": [
    "plot_differences(differences, dataset_name=\"celeba\", size=0.4)"
   ]
  },
  {
   "cell_type": "code",
   "execution_count": null,
   "metadata": {},
   "outputs": [],
   "source": [
    "plot_accuracy(test_accuracy, baselines_accuracy, \"0.4\", dataset_name=\"celeba\")"
   ]
  }
 ],
 "metadata": {
  "kernelspec": {
   "display_name": ".venv",
   "language": "python",
   "name": "python3"
  },
  "language_info": {
   "codemirror_mode": {
    "name": "ipython",
    "version": 3
   },
   "file_extension": ".py",
   "mimetype": "text/x-python",
   "name": "python",
   "nbconvert_exporter": "python",
   "pygments_lexer": "ipython3",
   "version": "3.10.12"
  }
 },
 "nbformat": 4,
 "nbformat_minor": 2
}
